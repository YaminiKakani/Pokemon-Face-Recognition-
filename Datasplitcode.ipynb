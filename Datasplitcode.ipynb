{
 "cells": [
  {
   "cell_type": "code",
   "execution_count": null,
   "id": "6504eeef",
   "metadata": {},
   "outputs": [],
   "source": [
    "# Paths for the new train, validation, and test splits\n",
    "train_dataset = \"train\"\n",
    "val_dataset = \"val\"\n",
    "test_dataset = \"test\"\n",
    "\n",
    "# Create the target folders if they don't exist\n",
    "os.makedirs(train_dataset, exist_ok=True)\n",
    "os.makedirs(val_dataset, exist_ok=True)\n",
    "os.makedirs(test_dataset, exist_ok=True)\n",
    "\n",
    "# Loop through each Pokémon class (subfolder) in the original dataset\n",
    "for pokemon_class in os.listdir(dataset_path):\n",
    "    class_folder = os.path.join(dataset_path, pokemon_class)\n",
    "    \n",
    "    # Check if it's a directory (Pokémon class folder)\n",
    "    if os.path.isdir(class_folder):\n",
    "        # Create class directories in the target folders\n",
    "        os.makedirs(os.path.join(train_dataset, pokemon_class), exist_ok=True)\n",
    "        os.makedirs(os.path.join(val_dataset, pokemon_class), exist_ok=True)\n",
    "        os.makedirs(os.path.join(test_dataset, pokemon_class), exist_ok=True)\n",
    "\n",
    "        # List all image files in the class folder\n",
    "        image_files = [f for f in os.listdir(class_folder) if f.lower().endswith(('.png', '.jpg', '.jpeg'))]\n",
    "        \n",
    "        # Shuffle the list of image files\n",
    "        random.shuffle(image_files)\n",
    "\n",
    "        # Calculate the split sizes\n",
    "        total_images = len(image_files)\n",
    "        train_size = int(0.7 * total_images)\n",
    "        val_size = int(0.2 * total_images)\n",
    "        test_size = total_images - train_size - val_size\n",
    "\n",
    "        # Split the image files into train, val, and test\n",
    "        train_files = image_files[:train_size]\n",
    "        val_files = image_files[train_size:train_size + val_size]\n",
    "        test_files = image_files[train_size + val_size:]\n",
    "\n",
    "        # Move the images into the respective folders\n",
    "        for img in train_files:\n",
    "            shutil.copy(os.path.join(class_folder, img), os.path.join(train_dataset, pokemon_class, img))\n",
    "        for img in val_files:\n",
    "            shutil.copy(os.path.join(class_folder, img), os.path.join(val_dataset, pokemon_class, img))\n",
    "        for img in test_files:\n",
    "            shutil.copy(os.path.join(class_folder, img), os.path.join(test_dataset, pokemon_class, img))\n",
    "\n",
    "print(\"Dataset successfully split into train, val, and test folders!\")"
   ]
  }
 ],
 "metadata": {
  "language_info": {
   "name": "python"
  }
 },
 "nbformat": 4,
 "nbformat_minor": 5
}
